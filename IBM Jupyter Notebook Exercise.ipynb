{
 "cells": [
  {
   "cell_type": "markdown",
   "id": "c106cfdc-0a62-40f4-bf3c-de03540775bd",
   "metadata": {},
   "source": [
    "# My Jupyter Notebook on IBM Watson Studio"
   ]
  },
  {
   "cell_type": "markdown",
   "id": "ba487904-877a-48ac-9644-af555a22e130",
   "metadata": {},
   "source": [
    "*Madhusudhan Vasavakkala* \n",
    "\n",
    "Business Growth Lead"
   ]
  },
  {
   "cell_type": "markdown",
   "id": "77e8560a-e9ed-45ee-8cb8-295122c78e77",
   "metadata": {},
   "source": [
    "_I am interested in datascience since it gives the basis to perform my tasks efficiently_"
   ]
  },
  {
   "cell_type": "markdown",
   "id": "1c99f56a-bc3f-44a3-aec6-77434d5db338",
   "metadata": {},
   "source": [
    "### Display a code that executes a very simple function"
   ]
  },
  {
   "cell_type": "code",
   "execution_count": 1,
   "id": "1e552ecc-bdbc-4040-a6d7-70986afbf9ee",
   "metadata": {},
   "outputs": [
    {
     "data": {
      "text/plain": [
       "2"
      ]
     },
     "execution_count": 1,
     "metadata": {},
     "output_type": "execute_result"
    }
   ],
   "source": [
    "1 + 1"
   ]
  },
  {
   "cell_type": "markdown",
   "id": "33cbf683-7002-4329-8044-69899fa4a0fc",
   "metadata": {},
   "source": [
    "* Apple\n",
    "1. Orange\n",
    "\n",
    "[Google](www.google.com)"
   ]
  },
  {
   "cell_type": "code",
   "execution_count": null,
   "id": "57e52f96-a32a-479e-87e2-7815d9dfde91",
   "metadata": {},
   "outputs": [],
   "source": []
  }
 ],
 "metadata": {
  "kernelspec": {
   "display_name": "Python 3 (ipykernel)",
   "language": "python",
   "name": "python3"
  },
  "language_info": {
   "codemirror_mode": {
    "name": "ipython",
    "version": 3
   },
   "file_extension": ".py",
   "mimetype": "text/x-python",
   "name": "python",
   "nbconvert_exporter": "python",
   "pygments_lexer": "ipython3",
   "version": "3.9.7"
  }
 },
 "nbformat": 4,
 "nbformat_minor": 5
}
